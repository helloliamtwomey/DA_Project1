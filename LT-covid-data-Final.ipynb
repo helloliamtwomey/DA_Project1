{
 "cells": [
  {
   "cell_type": "code",
   "execution_count": 145,
   "id": "e505ebf4",
   "metadata": {},
   "outputs": [],
   "source": [
    "# Import dependencies\n",
    "import matplotlib.pyplot as plt\n",
    "import pandas as pd\n",
    "import numpy as np\n",
    "import scipy.stats as st\n",
    "from scipy.stats import linregress\n",
    "\n",
    "# Matplotlib.dates provides date plotting capabilities\n",
    "import matplotlib.dates as mdates"
   ]
  },
  {
   "cell_type": "code",
   "execution_count": 146,
   "id": "c0033f97",
   "metadata": {},
   "outputs": [],
   "source": [
    "#Read in the CSV\n",
    "data = 'owid-covid-data.csv'\n",
    "covid_data = pd.read_csv(data)\n",
    "\n",
    "# Fill Missing Data with 0\n",
    "covid_data = covid_data.fillna(0)"
   ]
  },
  {
   "cell_type": "code",
   "execution_count": 147,
   "id": "1478b950",
   "metadata": {},
   "outputs": [
    {
     "data": {
      "text/html": [
       "<div>\n",
       "<style scoped>\n",
       "    .dataframe tbody tr th:only-of-type {\n",
       "        vertical-align: middle;\n",
       "    }\n",
       "\n",
       "    .dataframe tbody tr th {\n",
       "        vertical-align: top;\n",
       "    }\n",
       "\n",
       "    .dataframe thead th {\n",
       "        text-align: right;\n",
       "    }\n",
       "</style>\n",
       "<table border=\"1\" class=\"dataframe\">\n",
       "  <thead>\n",
       "    <tr style=\"text-align: right;\">\n",
       "      <th></th>\n",
       "      <th>iso_code</th>\n",
       "      <th>continent</th>\n",
       "      <th>location</th>\n",
       "      <th>date</th>\n",
       "      <th>total_cases</th>\n",
       "      <th>new_cases</th>\n",
       "      <th>new_cases_smoothed</th>\n",
       "      <th>total_deaths</th>\n",
       "      <th>new_deaths</th>\n",
       "      <th>new_deaths_smoothed</th>\n",
       "      <th>...</th>\n",
       "      <th>female_smokers</th>\n",
       "      <th>male_smokers</th>\n",
       "      <th>handwashing_facilities</th>\n",
       "      <th>hospital_beds_per_thousand</th>\n",
       "      <th>life_expectancy</th>\n",
       "      <th>human_development_index</th>\n",
       "      <th>excess_mortality_cumulative_absolute</th>\n",
       "      <th>excess_mortality_cumulative</th>\n",
       "      <th>excess_mortality</th>\n",
       "      <th>excess_mortality_cumulative_per_million</th>\n",
       "    </tr>\n",
       "  </thead>\n",
       "  <tbody>\n",
       "    <tr>\n",
       "      <th>0</th>\n",
       "      <td>AFG</td>\n",
       "      <td>Asia</td>\n",
       "      <td>Afghanistan</td>\n",
       "      <td>2020-02-24</td>\n",
       "      <td>5.0</td>\n",
       "      <td>5.0</td>\n",
       "      <td>0.0</td>\n",
       "      <td>0.0</td>\n",
       "      <td>0.0</td>\n",
       "      <td>0.0</td>\n",
       "      <td>...</td>\n",
       "      <td>0.0</td>\n",
       "      <td>0.0</td>\n",
       "      <td>37.746</td>\n",
       "      <td>0.5</td>\n",
       "      <td>64.83</td>\n",
       "      <td>0.511</td>\n",
       "      <td>0.0</td>\n",
       "      <td>0.0</td>\n",
       "      <td>0.0</td>\n",
       "      <td>0.0</td>\n",
       "    </tr>\n",
       "  </tbody>\n",
       "</table>\n",
       "<p>5 rows × 67 columns</p>\n",
       "</div>"
      ],
      "text/plain": [
       "   iso_code continent     location        date  total_cases  new_cases  \\\n",
       "0       AFG      Asia  Afghanistan  2020-02-24          5.0        5.0   \n",
       "..      ...       ...          ...         ...          ...        ...   \n",
       "\n",
       "    new_cases_smoothed  total_deaths  new_deaths  new_deaths_smoothed  ...  \\\n",
       "0                  0.0           0.0         0.0                  0.0  ...   \n",
       "..                 ...           ...         ...                  ...  ...   \n",
       "\n",
       "    female_smokers  male_smokers  handwashing_facilities  \\\n",
       "0              0.0           0.0                  37.746   \n",
       "..             ...           ...                     ...   \n",
       "\n",
       "    hospital_beds_per_thousand  life_expectancy  human_development_index  \\\n",
       "0                          0.5            64.83                    0.511   \n",
       "..                         ...              ...                      ...   \n",
       "\n",
       "    excess_mortality_cumulative_absolute  excess_mortality_cumulative  \\\n",
       "0                                    0.0                          0.0   \n",
       "..                                   ...                          ...   \n",
       "\n",
       "    excess_mortality  excess_mortality_cumulative_per_million  \n",
       "0                0.0                                      0.0  \n",
       "..               ...                                      ...  \n",
       "\n",
       "[5 rows x 67 columns]"
      ]
     },
     "execution_count": 147,
     "metadata": {},
     "output_type": "execute_result"
    }
   ],
   "source": [
    "covid_data.head()"
   ]
  },
  {
   "cell_type": "markdown",
   "id": "0d13e8a5",
   "metadata": {},
   "source": [
    "# Identify The Most Populated Country From Each Continent"
   ]
  },
  {
   "cell_type": "code",
   "execution_count": 148,
   "id": "2cab6c78",
   "metadata": {},
   "outputs": [],
   "source": [
    "# Select Required Columns\n",
    "population_data = covid_data[['continent','location','population' ]]"
   ]
  },
  {
   "cell_type": "code",
   "execution_count": 149,
   "id": "0b6cbe14",
   "metadata": {},
   "outputs": [],
   "source": [
    "# Drop Dulicate Population Values\n",
    "population_data = population_data.drop_duplicates(subset=['population'])\n",
    "\n",
    "# Sort Population Collumn by Value \n",
    "population_data = population_data.sort_values(by='population', ascending=False)"
   ]
  },
  {
   "cell_type": "code",
   "execution_count": 150,
   "id": "b5649832",
   "metadata": {},
   "outputs": [],
   "source": [
    "# display one row only COMMENTED OUT AFTER RUNNING CELLS \n",
    "pd.set_option('display.max_rows', 1) "
   ]
  },
  {
   "cell_type": "code",
   "execution_count": 151,
   "id": "6c011a13",
   "metadata": {},
   "outputs": [
    {
     "data": {
      "text/html": [
       "<div>\n",
       "<style scoped>\n",
       "    .dataframe tbody tr th:only-of-type {\n",
       "        vertical-align: middle;\n",
       "    }\n",
       "\n",
       "    .dataframe tbody tr th {\n",
       "        vertical-align: top;\n",
       "    }\n",
       "\n",
       "    .dataframe thead th {\n",
       "        text-align: right;\n",
       "    }\n",
       "</style>\n",
       "<table border=\"1\" class=\"dataframe\">\n",
       "  <thead>\n",
       "    <tr style=\"text-align: right;\">\n",
       "      <th></th>\n",
       "      <th>continent</th>\n",
       "      <th>location</th>\n",
       "      <th>population</th>\n",
       "    </tr>\n",
       "  </thead>\n",
       "  <tbody>\n",
       "    <tr>\n",
       "      <th>135413</th>\n",
       "      <td>Africa</td>\n",
       "      <td>Nigeria</td>\n",
       "      <td>213401323.0</td>\n",
       "    </tr>\n",
       "  </tbody>\n",
       "</table>\n",
       "<p>56 rows × 3 columns</p>\n",
       "</div>"
      ],
      "text/plain": [
       "       continent location   population\n",
       "135413    Africa  Nigeria  213401323.0\n",
       "...          ...      ...          ...\n",
       "\n",
       "[56 rows x 3 columns]"
      ]
     },
     "execution_count": 151,
     "metadata": {},
     "output_type": "execute_result"
    }
   ],
   "source": [
    "# Create Subset of data with individual continent data to Identify the Most Populated Country\n",
    "Covid_Data_Africa = population_data['continent'] == 'Africa'\n",
    "\n",
    "Covid_Data_Africa = population_data[Covid_Data_Africa]\n",
    "Covid_Data_Africa"
   ]
  },
  {
   "cell_type": "code",
   "execution_count": 152,
   "id": "4b2b5cc5",
   "metadata": {},
   "outputs": [
    {
     "data": {
      "text/html": [
       "<div>\n",
       "<style scoped>\n",
       "    .dataframe tbody tr th:only-of-type {\n",
       "        vertical-align: middle;\n",
       "    }\n",
       "\n",
       "    .dataframe tbody tr th {\n",
       "        vertical-align: top;\n",
       "    }\n",
       "\n",
       "    .dataframe thead th {\n",
       "        text-align: right;\n",
       "    }\n",
       "</style>\n",
       "<table border=\"1\" class=\"dataframe\">\n",
       "  <thead>\n",
       "    <tr style=\"text-align: right;\">\n",
       "      <th></th>\n",
       "      <th>continent</th>\n",
       "      <th>location</th>\n",
       "      <th>population</th>\n",
       "    </tr>\n",
       "  </thead>\n",
       "  <tbody>\n",
       "    <tr>\n",
       "      <th>38236</th>\n",
       "      <td>Asia</td>\n",
       "      <td>China</td>\n",
       "      <td>1.425893e+09</td>\n",
       "    </tr>\n",
       "  </tbody>\n",
       "</table>\n",
       "<p>50 rows × 3 columns</p>\n",
       "</div>"
      ],
      "text/plain": [
       "      continent location    population\n",
       "38236      Asia    China  1.425893e+09\n",
       "...         ...      ...           ...\n",
       "\n",
       "[50 rows x 3 columns]"
      ]
     },
     "execution_count": 152,
     "metadata": {},
     "output_type": "execute_result"
    }
   ],
   "source": [
    "# Create Subset of data with individual continent data to Identify the Most Populated Country\n",
    "Covid_Data_Asia = population_data['continent'] == 'Asia'\n",
    "\n",
    "Covid_Data_Asia = population_data[Covid_Data_Asia]\n",
    "Covid_Data_Asia"
   ]
  },
  {
   "cell_type": "code",
   "execution_count": 153,
   "id": "4228b864",
   "metadata": {},
   "outputs": [
    {
     "data": {
      "text/html": [
       "<div>\n",
       "<style scoped>\n",
       "    .dataframe tbody tr th:only-of-type {\n",
       "        vertical-align: middle;\n",
       "    }\n",
       "\n",
       "    .dataframe tbody tr th {\n",
       "        vertical-align: top;\n",
       "    }\n",
       "\n",
       "    .dataframe thead th {\n",
       "        text-align: right;\n",
       "    }\n",
       "</style>\n",
       "<table border=\"1\" class=\"dataframe\">\n",
       "  <thead>\n",
       "    <tr style=\"text-align: right;\">\n",
       "      <th></th>\n",
       "      <th>continent</th>\n",
       "      <th>location</th>\n",
       "      <th>population</th>\n",
       "    </tr>\n",
       "  </thead>\n",
       "  <tbody>\n",
       "    <tr>\n",
       "      <th>153934</th>\n",
       "      <td>Europe</td>\n",
       "      <td>Russia</td>\n",
       "      <td>145102755.0</td>\n",
       "    </tr>\n",
       "  </tbody>\n",
       "</table>\n",
       "<p>51 rows × 3 columns</p>\n",
       "</div>"
      ],
      "text/plain": [
       "       continent location   population\n",
       "153934    Europe   Russia  145102755.0\n",
       "...          ...      ...          ...\n",
       "\n",
       "[51 rows x 3 columns]"
      ]
     },
     "execution_count": 153,
     "metadata": {},
     "output_type": "execute_result"
    }
   ],
   "source": [
    "# Create Subset of data with individual continent data to Identify the Most Populated Country\n",
    "Covid_Data_Europe = population_data['continent'] == 'Europe'\n",
    "\n",
    "Covid_Data_Europe = population_data[Covid_Data_Europe]\n",
    "Covid_Data_Europe"
   ]
  },
  {
   "cell_type": "code",
   "execution_count": 154,
   "id": "1d342dde",
   "metadata": {},
   "outputs": [
    {
     "data": {
      "text/html": [
       "<div>\n",
       "<style scoped>\n",
       "    .dataframe tbody tr th:only-of-type {\n",
       "        vertical-align: middle;\n",
       "    }\n",
       "\n",
       "    .dataframe tbody tr th {\n",
       "        vertical-align: top;\n",
       "    }\n",
       "\n",
       "    .dataframe thead th {\n",
       "        text-align: right;\n",
       "    }\n",
       "</style>\n",
       "<table border=\"1\" class=\"dataframe\">\n",
       "  <thead>\n",
       "    <tr style=\"text-align: right;\">\n",
       "      <th></th>\n",
       "      <th>continent</th>\n",
       "      <th>location</th>\n",
       "      <th>population</th>\n",
       "    </tr>\n",
       "  </thead>\n",
       "  <tbody>\n",
       "    <tr>\n",
       "      <th>195365</th>\n",
       "      <td>North America</td>\n",
       "      <td>United States</td>\n",
       "      <td>336997624.0</td>\n",
       "    </tr>\n",
       "  </tbody>\n",
       "</table>\n",
       "<p>37 rows × 3 columns</p>\n",
       "</div>"
      ],
      "text/plain": [
       "            continent       location   population\n",
       "195365  North America  United States  336997624.0\n",
       "...               ...            ...          ...\n",
       "\n",
       "[37 rows x 3 columns]"
      ]
     },
     "execution_count": 154,
     "metadata": {},
     "output_type": "execute_result"
    }
   ],
   "source": [
    "# Create Subset of data with individual continent data to Identify the Most Populated Country\n",
    "Covid_Data_NorthAmerica = population_data['continent'] == 'North America'\n",
    "\n",
    "Covid_Data_NorthAmerica = population_data[Covid_Data_NorthAmerica]\n",
    "Covid_Data_NorthAmerica"
   ]
  },
  {
   "cell_type": "code",
   "execution_count": 155,
   "id": "03d63bc0",
   "metadata": {},
   "outputs": [
    {
     "data": {
      "text/html": [
       "<div>\n",
       "<style scoped>\n",
       "    .dataframe tbody tr th:only-of-type {\n",
       "        vertical-align: middle;\n",
       "    }\n",
       "\n",
       "    .dataframe tbody tr th {\n",
       "        vertical-align: top;\n",
       "    }\n",
       "\n",
       "    .dataframe thead th {\n",
       "        text-align: right;\n",
       "    }\n",
       "</style>\n",
       "<table border=\"1\" class=\"dataframe\">\n",
       "  <thead>\n",
       "    <tr style=\"text-align: right;\">\n",
       "      <th></th>\n",
       "      <th>continent</th>\n",
       "      <th>location</th>\n",
       "      <th>population</th>\n",
       "    </tr>\n",
       "  </thead>\n",
       "  <tbody>\n",
       "    <tr>\n",
       "      <th>25828</th>\n",
       "      <td>South America</td>\n",
       "      <td>Brazil</td>\n",
       "      <td>214326223.0</td>\n",
       "    </tr>\n",
       "  </tbody>\n",
       "</table>\n",
       "<p>13 rows × 3 columns</p>\n",
       "</div>"
      ],
      "text/plain": [
       "           continent location   population\n",
       "25828  South America   Brazil  214326223.0\n",
       "...              ...      ...          ...\n",
       "\n",
       "[13 rows x 3 columns]"
      ]
     },
     "execution_count": 155,
     "metadata": {},
     "output_type": "execute_result"
    }
   ],
   "source": [
    "# Create Subset of data with individual continent data to Identify the Most Populated Country\n",
    "Covid_Data_SouthAmerica = population_data['continent'] == 'South America'\n",
    "\n",
    "Covid_Data_SouthAmerica = population_data[Covid_Data_SouthAmerica]\n",
    "Covid_Data_SouthAmerica"
   ]
  },
  {
   "cell_type": "code",
   "execution_count": 156,
   "id": "3c7df94f",
   "metadata": {},
   "outputs": [
    {
     "data": {
      "text/html": [
       "<div>\n",
       "<style scoped>\n",
       "    .dataframe tbody tr th:only-of-type {\n",
       "        vertical-align: middle;\n",
       "    }\n",
       "\n",
       "    .dataframe tbody tr th {\n",
       "        vertical-align: top;\n",
       "    }\n",
       "\n",
       "    .dataframe thead th {\n",
       "        text-align: right;\n",
       "    }\n",
       "</style>\n",
       "<table border=\"1\" class=\"dataframe\">\n",
       "  <thead>\n",
       "    <tr style=\"text-align: right;\">\n",
       "      <th></th>\n",
       "      <th>continent</th>\n",
       "      <th>location</th>\n",
       "      <th>population</th>\n",
       "    </tr>\n",
       "  </thead>\n",
       "  <tbody>\n",
       "    <tr>\n",
       "      <th>10780</th>\n",
       "      <td>Oceania</td>\n",
       "      <td>Australia</td>\n",
       "      <td>25921089.0</td>\n",
       "    </tr>\n",
       "  </tbody>\n",
       "</table>\n",
       "<p>23 rows × 3 columns</p>\n",
       "</div>"
      ],
      "text/plain": [
       "      continent   location  population\n",
       "10780   Oceania  Australia  25921089.0\n",
       "...         ...        ...         ...\n",
       "\n",
       "[23 rows x 3 columns]"
      ]
     },
     "execution_count": 156,
     "metadata": {},
     "output_type": "execute_result"
    }
   ],
   "source": [
    "# Create Subset of data with individual continent data to Identify the Most Populated Country\n",
    "Covid_Data_Oceania = population_data['continent'] == 'Oceania'\n",
    "\n",
    "Covid_Data_Oceania = population_data[Covid_Data_Oceania]\n",
    "Covid_Data_Oceania"
   ]
  },
  {
   "cell_type": "markdown",
   "id": "e2485d72",
   "metadata": {},
   "source": [
    "# Select New Collumns"
   ]
  },
  {
   "cell_type": "code",
   "execution_count": 157,
   "id": "75b43c21",
   "metadata": {},
   "outputs": [
    {
     "data": {
      "text/html": [
       "<div>\n",
       "<style scoped>\n",
       "    .dataframe tbody tr th:only-of-type {\n",
       "        vertical-align: middle;\n",
       "    }\n",
       "\n",
       "    .dataframe tbody tr th {\n",
       "        vertical-align: top;\n",
       "    }\n",
       "\n",
       "    .dataframe thead th {\n",
       "        text-align: right;\n",
       "    }\n",
       "</style>\n",
       "<table border=\"1\" class=\"dataframe\">\n",
       "  <thead>\n",
       "    <tr style=\"text-align: right;\">\n",
       "      <th></th>\n",
       "      <th>new_deaths_smoothed_per_million</th>\n",
       "      <th>new_cases_smoothed</th>\n",
       "      <th>continent</th>\n",
       "      <th>location</th>\n",
       "      <th>date</th>\n",
       "      <th>population</th>\n",
       "      <th>total_cases</th>\n",
       "      <th>total_tests</th>\n",
       "      <th>positive_rate</th>\n",
       "      <th>total_vaccinations</th>\n",
       "      <th>people_fully_vaccinated</th>\n",
       "    </tr>\n",
       "  </thead>\n",
       "  <tbody>\n",
       "    <tr>\n",
       "      <th>0</th>\n",
       "      <td>0.0</td>\n",
       "      <td>0.0</td>\n",
       "      <td>Asia</td>\n",
       "      <td>Afghanistan</td>\n",
       "      <td>2020-02-24</td>\n",
       "      <td>40099462.0</td>\n",
       "      <td>5.0</td>\n",
       "      <td>0.0</td>\n",
       "      <td>0.0</td>\n",
       "      <td>0.0</td>\n",
       "      <td>0.0</td>\n",
       "    </tr>\n",
       "  </tbody>\n",
       "</table>\n",
       "<p>5 rows × 11 columns</p>\n",
       "</div>"
      ],
      "text/plain": [
       "    new_deaths_smoothed_per_million  new_cases_smoothed continent  \\\n",
       "0                               0.0                 0.0      Asia   \n",
       "..                              ...                 ...       ...   \n",
       "\n",
       "       location        date  population  total_cases  total_tests  \\\n",
       "0   Afghanistan  2020-02-24  40099462.0          5.0          0.0   \n",
       "..          ...         ...         ...          ...          ...   \n",
       "\n",
       "    positive_rate  total_vaccinations  people_fully_vaccinated  \n",
       "0             0.0                 0.0                      0.0  \n",
       "..            ...                 ...                      ...  \n",
       "\n",
       "[5 rows x 11 columns]"
      ]
     },
     "execution_count": 157,
     "metadata": {},
     "output_type": "execute_result"
    }
   ],
   "source": [
    "covid_data = covid_data[['new_deaths_smoothed_per_million', 'new_cases_smoothed', 'continent', 'location', 'date', 'population', 'total_cases', 'total_tests', 'positive_rate', 'total_vaccinations', 'people_fully_vaccinated' ]]\n",
    "covid_data.head()"
   ]
  },
  {
   "cell_type": "markdown",
   "id": "dd4e6e7a",
   "metadata": {},
   "source": [
    "# PLOT: new deaths smoothed per million"
   ]
  },
  {
   "cell_type": "code",
   "execution_count": 158,
   "id": "bf480b1d",
   "metadata": {},
   "outputs": [],
   "source": [
    "# Define / Grab the data contained within the \"location\" column | DataFrames\n",
    "\n",
    "nigeria = covid_data.loc[(covid_data['location'] == 'Nigeria'),:]\n",
    "china = covid_data.loc[(covid_data['location'] == 'China'),:]\n",
    "russia = covid_data.loc[(covid_data['location'] == 'Russia'),:]\n",
    "united_states = covid_data.loc[(covid_data['location'] == 'United States'),:]\n",
    "brazil = covid_data.loc[(covid_data['location'] == 'Brazil'),:]\n",
    "australia = covid_data.loc[(covid_data['location'] == 'Australia'),:]"
   ]
  },
  {
   "cell_type": "code",
   "execution_count": 159,
   "id": "cc659553",
   "metadata": {
    "collapsed": true
   },
   "outputs": [
    {
     "name": "stderr",
     "output_type": "stream",
     "text": [
      "/Users/liamtwomey/opt/anaconda3/envs/PythonData/lib/python3.7/site-packages/ipykernel_launcher.py:5: SettingWithCopyWarning: \n",
      "A value is trying to be set on a copy of a slice from a DataFrame.\n",
      "Try using .loc[row_indexer,col_indexer] = value instead\n",
      "\n",
      "See the caveats in the documentation: https://pandas.pydata.org/pandas-docs/stable/user_guide/indexing.html#returning-a-view-versus-a-copy\n",
      "  \"\"\"\n",
      "/Users/liamtwomey/opt/anaconda3/envs/PythonData/lib/python3.7/site-packages/ipykernel_launcher.py:6: SettingWithCopyWarning: \n",
      "A value is trying to be set on a copy of a slice from a DataFrame.\n",
      "Try using .loc[row_indexer,col_indexer] = value instead\n",
      "\n",
      "See the caveats in the documentation: https://pandas.pydata.org/pandas-docs/stable/user_guide/indexing.html#returning-a-view-versus-a-copy\n",
      "  \n",
      "/Users/liamtwomey/opt/anaconda3/envs/PythonData/lib/python3.7/site-packages/ipykernel_launcher.py:7: SettingWithCopyWarning: \n",
      "A value is trying to be set on a copy of a slice from a DataFrame.\n",
      "Try using .loc[row_indexer,col_indexer] = value instead\n",
      "\n",
      "See the caveats in the documentation: https://pandas.pydata.org/pandas-docs/stable/user_guide/indexing.html#returning-a-view-versus-a-copy\n",
      "  import sys\n",
      "/Users/liamtwomey/opt/anaconda3/envs/PythonData/lib/python3.7/site-packages/ipykernel_launcher.py:8: SettingWithCopyWarning: \n",
      "A value is trying to be set on a copy of a slice from a DataFrame.\n",
      "Try using .loc[row_indexer,col_indexer] = value instead\n",
      "\n",
      "See the caveats in the documentation: https://pandas.pydata.org/pandas-docs/stable/user_guide/indexing.html#returning-a-view-versus-a-copy\n",
      "  \n",
      "/Users/liamtwomey/opt/anaconda3/envs/PythonData/lib/python3.7/site-packages/ipykernel_launcher.py:9: SettingWithCopyWarning: \n",
      "A value is trying to be set on a copy of a slice from a DataFrame.\n",
      "Try using .loc[row_indexer,col_indexer] = value instead\n",
      "\n",
      "See the caveats in the documentation: https://pandas.pydata.org/pandas-docs/stable/user_guide/indexing.html#returning-a-view-versus-a-copy\n",
      "  if __name__ == '__main__':\n",
      "/Users/liamtwomey/opt/anaconda3/envs/PythonData/lib/python3.7/site-packages/ipykernel_launcher.py:10: SettingWithCopyWarning: \n",
      "A value is trying to be set on a copy of a slice from a DataFrame.\n",
      "Try using .loc[row_indexer,col_indexer] = value instead\n",
      "\n",
      "See the caveats in the documentation: https://pandas.pydata.org/pandas-docs/stable/user_guide/indexing.html#returning-a-view-versus-a-copy\n",
      "  # Remove the CWD from sys.path while we load stuff.\n"
     ]
    }
   ],
   "source": [
    "# Used to have the x axis display Months\n",
    "    # .astype - Cast a pandas object to a specified dtype\n",
    "        # (datetime64[ns, tz]) from ASKBCS assistant * could also use ----> to_datetime() <----  \n",
    "\n",
    "nigeria['date'] = nigeria['date'].astype('datetime64[ns]')\n",
    "china['date'] = china['date'].astype('datetime64[ns]')\n",
    "russia['date'] = russia['date'].astype('datetime64[ns]')\n",
    "united_states['date'] = united_states['date'].astype('datetime64[ns]')\n",
    "brazil['date'] = nigeria['date'].astype('datetime64[ns]')\n",
    "australia['date'] = australia['date'].astype('datetime64[ns]')"
   ]
  },
  {
   "cell_type": "markdown",
   "id": "68f8f52d",
   "metadata": {},
   "source": [
    "# When Was The Vaccine Avaliable For Each Country"
   ]
  },
  {
   "cell_type": "code",
   "execution_count": 160,
   "id": "5401d92d",
   "metadata": {},
   "outputs": [],
   "source": [
    "# nigeria - August 2021\n",
    "# china - June 2020\n",
    "# russia - October 2020\n",
    "# united_states - December 2020\n",
    "# brazil - March 2022\n",
    "# australia - January 2022\n",
    "\n",
    "# .head or .tail to find out the top position or the botttom value of a collumn"
   ]
  },
  {
   "cell_type": "code",
   "execution_count": 161,
   "id": "5e04f477",
   "metadata": {},
   "outputs": [
    {
     "data": {
      "text/plain": [
       "11172    2021-02-21\n",
       "Name: date, dtype: object"
      ]
     },
     "execution_count": 161,
     "metadata": {},
     "output_type": "execute_result"
    }
   ],
   "source": [
    "# nigeria\n",
    "nigeria_vacdate = nigeria.loc[(nigeria['total_vaccinations'] > 0), :]\n",
    "vacdate[\"date\"].head(1) "
   ]
  },
  {
   "cell_type": "code",
   "execution_count": 162,
   "id": "ca3b053c",
   "metadata": {},
   "outputs": [
    {
     "data": {
      "text/plain": [
       "11172    2021-02-21\n",
       "Name: date, dtype: object"
      ]
     },
     "execution_count": 162,
     "metadata": {},
     "output_type": "execute_result"
    }
   ],
   "source": [
    "# china\n",
    "china_vacdate = china.loc[(china['total_vaccinations'] > 0), :]\n",
    "vacdate[\"date\"].head(1) "
   ]
  },
  {
   "cell_type": "code",
   "execution_count": 163,
   "id": "64ca4aae",
   "metadata": {},
   "outputs": [
    {
     "data": {
      "text/plain": [
       "11172    2021-02-21\n",
       "Name: date, dtype: object"
      ]
     },
     "execution_count": 163,
     "metadata": {},
     "output_type": "execute_result"
    }
   ],
   "source": [
    "# russia\n",
    "russia_vacdate = russia.loc[(russia['total_vaccinations'] > 0), :]\n",
    "vacdate[\"date\"].head(1) "
   ]
  },
  {
   "cell_type": "code",
   "execution_count": 164,
   "id": "034a0020",
   "metadata": {},
   "outputs": [
    {
     "data": {
      "text/plain": [
       "11172    2021-02-21\n",
       "Name: date, dtype: object"
      ]
     },
     "execution_count": 164,
     "metadata": {},
     "output_type": "execute_result"
    }
   ],
   "source": [
    "# united_states\n",
    "USA_vacdate = united_states.loc[(united_states['total_vaccinations'] > 0), :]\n",
    "vacdate[\"date\"].head(1) "
   ]
  },
  {
   "cell_type": "code",
   "execution_count": 165,
   "id": "bc8c6c7b",
   "metadata": {},
   "outputs": [
    {
     "data": {
      "text/plain": [
       "11172    2021-02-21\n",
       "Name: date, dtype: object"
      ]
     },
     "execution_count": 165,
     "metadata": {},
     "output_type": "execute_result"
    }
   ],
   "source": [
    "# brazil\n",
    "brazil_vacdate = brazil.loc[(brazil['total_vaccinations'] > 0), :]\n",
    "vacdate[\"date\"].head(1) "
   ]
  },
  {
   "cell_type": "code",
   "execution_count": 166,
   "id": "8189fdec",
   "metadata": {},
   "outputs": [
    {
     "data": {
      "text/plain": [
       "11172    2021-02-21\n",
       "Name: date, dtype: object"
      ]
     },
     "execution_count": 166,
     "metadata": {},
     "output_type": "execute_result"
    }
   ],
   "source": [
    "# australia\n",
    "australia_vacdate = australia.loc[(australia['total_vaccinations'] > 0), :]\n",
    "vacdate[\"date\"].head(1) "
   ]
  },
  {
   "cell_type": "markdown",
   "id": "e98e97f5",
   "metadata": {},
   "source": [
    "# ---------------------------------------------------------------"
   ]
  },
  {
   "cell_type": "code",
   "execution_count": 167,
   "id": "cca0bcfa",
   "metadata": {
    "scrolled": false
   },
   "outputs": [
    {
     "data": {
      "image/png": "[encoded data removed]",
      "text/plain": [
       "<Figure size 864x864 with 1 Axes>"
      ]
     },
     "metadata": {
      "needs_background": "light"
     },
     "output_type": "display_data"
    }
   ],
   "source": [
    "# nigeria\n",
    "x = nigeria['date']\n",
    "y = nigeria['new_deaths_smoothed_per_million']\n",
    "fig = plt.figure(figsize=(12, 12))\n",
    "ax = fig.add_subplot(111)\n",
    "\n",
    "ax.plot(x,y)\n",
    "\n",
    "x = nigeria['date']\n",
    "y_ncm = nigeria['new_cases_smoothed']\n",
    "\n",
    "ax.plot(x,y_ncm)\n",
    "\n",
    "ax.set_ylabel('UNITS')\n",
    "ax.set_xlabel('TIME')\n",
    "ax.set_title('new_cases_smoothed')\n",
    "ax.xaxis.set_major_locator(mdates.MonthLocator())\n",
    "ax.xaxis.set_major_formatter(mdates.DateFormatter('%b\\n%y'))\n",
    "\n",
    "plt.show()"
   ]
  },
  {
   "cell_type": "code",
   "execution_count": null,
   "id": "d4df83f4",
   "metadata": {},
   "outputs": [],
   "source": [
    "# china\n",
    "x = china['date']\n",
    "y = china['new_deaths_smoothed_per_million']\n",
    "fig = plt.figure(figsize=(15, 15))\n",
    "ax = fig.add_subplot(111)\n",
    "\n",
    "ax.plot(x,y)\n",
    "\n",
    "ax.set_ylabel('UNITS')\n",
    "ax.set_xlabel('TIME')\n",
    "ax.set_title('new_deaths_smoothed_per_million')\n",
    "ax.xaxis.set_major_locator(mdates.MonthLocator())\n",
    "ax.xaxis.set_major_formatter(mdates.DateFormatter('%b'))\n",
    "plt.show()"
   ]
  },
  {
   "cell_type": "code",
   "execution_count": null,
   "id": "3e9f855e",
   "metadata": {},
   "outputs": [],
   "source": [
    "# russia\n",
    "x = russia['date']\n",
    "y = russia['new_deaths_smoothed_per_million']\n",
    "fig = plt.figure(figsize=(15, 15))\n",
    "ax = fig.add_subplot(111)\n",
    "\n",
    "ax.plot(x,y)\n",
    "\n",
    "ax.set_ylabel('UNITS')\n",
    "ax.set_xlabel('TIME')\n",
    "ax.set_title('new_deaths_smoothed_per_million')\n",
    "ax.xaxis.set_major_locator(mdates.MonthLocator())\n",
    "ax.xaxis.set_major_formatter(mdates.DateFormatter('%b'))\n",
    "plt.show()"
   ]
  },
  {
   "cell_type": "code",
   "execution_count": null,
   "id": "034b67ee",
   "metadata": {},
   "outputs": [],
   "source": [
    "# united_states\n",
    "x = united_states['date']\n",
    "y = united_states['new_deaths_smoothed_per_million']\n",
    "fig = plt.figure(figsize=(15, 15))\n",
    "ax = fig.add_subplot(111)\n",
    "\n",
    "ax.plot(x,y)\n",
    "\n",
    "ax.set_ylabel('UNITS')\n",
    "ax.set_xlabel('TIME')\n",
    "ax.set_title('new_deaths_smoothed_per_million')\n",
    "ax.xaxis.set_major_locator(mdates.MonthLocator())\n",
    "ax.xaxis.set_major_formatter(mdates.DateFormatter('%b'))\n",
    "plt.show()"
   ]
  },
  {
   "cell_type": "code",
   "execution_count": null,
   "id": "6a386c5c",
   "metadata": {},
   "outputs": [],
   "source": [
    "# brazil\n",
    "x = brazil['date']\n",
    "y = brazil['new_deaths_smoothed_per_million']\n",
    "fig = plt.figure(figsize=(15, 15))\n",
    "ax = fig.add_subplot(111)\n",
    "\n",
    "ax.plot(x,y)\n",
    "\n",
    "ax.set_ylabel('UNITS')\n",
    "ax.set_xlabel('TIME')\n",
    "ax.set_title('new_deaths_smoothed_per_million')\n",
    "ax.xaxis.set_major_locator(mdates.MonthLocator())\n",
    "ax.xaxis.set_major_formatter(mdates.DateFormatter('%b'))\n",
    "plt.show()"
   ]
  },
  {
   "cell_type": "code",
   "execution_count": null,
   "id": "9d35437a",
   "metadata": {},
   "outputs": [],
   "source": [
    "# australia\n",
    "x = australia['date']\n",
    "y = australia['new_deaths_smoothed_per_million']\n",
    "fig = plt.figure(figsize=(15, 15))\n",
    "ax = fig.add_subplot(111)\n",
    "\n",
    "ax.plot(x,y)\n",
    "\n",
    "ax.set_ylabel('UNITS')\n",
    "ax.set_xlabel('TIME')\n",
    "ax.set_title('new_deaths_smoothed_per_million')\n",
    "ax.xaxis.set_major_locator(mdates.MonthLocator())\n",
    "ax.xaxis.set_major_formatter(mdates.DateFormatter('%b'))\n",
    "plt.show()"
   ]
  },
  {
   "cell_type": "markdown",
   "id": "f7c6385e",
   "metadata": {},
   "source": [
    "# PLOT: new cases smoothed"
   ]
  },
  {
   "cell_type": "code",
   "execution_count": null,
   "id": "8caae196",
   "metadata": {},
   "outputs": [],
   "source": [
    "# nigeria\n",
    "x = nigeria['date']\n",
    "y = nigeria['new_cases_smoothed']\n",
    "fig = plt.figure(figsize=(15, 15))\n",
    "ax = fig.add_subplot(111)\n",
    "\n",
    "ax.plot(x,y)\n",
    "\n",
    "ax.set_ylabel('UNITS')\n",
    "ax.set_xlabel('TIME')\n",
    "ax.set_title('new_cases_smoothed')\n",
    "ax.xaxis.set_major_locator(mdates.MonthLocator())\n",
    "ax.xaxis.set_major_formatter(mdates.DateFormatter('%b'))\n",
    "plt.show()"
   ]
  },
  {
   "cell_type": "code",
   "execution_count": null,
   "id": "59419469",
   "metadata": {},
   "outputs": [],
   "source": [
    "# china\n",
    "x = china['date']\n",
    "y = china['new_cases_smoothed']\n",
    "fig = plt.figure(figsize=(15, 15))\n",
    "ax = fig.add_subplot(111)\n",
    "\n",
    "ax.plot(x,y)\n",
    "\n",
    "ax.set_ylabel('UNITS')\n",
    "ax.set_xlabel('TIME')\n",
    "ax.set_title('new_cases_smoothed')\n",
    "ax.xaxis.set_major_locator(mdates.MonthLocator())\n",
    "ax.xaxis.set_major_formatter(mdates.DateFormatter('%b'))\n",
    "plt.show()"
   ]
  },
  {
   "cell_type": "code",
   "execution_count": null,
   "id": "2c58fb23",
   "metadata": {},
   "outputs": [],
   "source": [
    "# russia\n",
    "x = russia['date']\n",
    "y = russia['new_cases_smoothed']\n",
    "fig = plt.figure(figsize=(15, 15))\n",
    "ax = fig.add_subplot(111)\n",
    "\n",
    "ax.plot(x,y)\n",
    "\n",
    "ax.set_ylabel('UNITS')\n",
    "ax.set_xlabel('TIME')\n",
    "ax.set_title('new_cases_smoothed')\n",
    "ax.xaxis.set_major_locator(mdates.MonthLocator())\n",
    "ax.xaxis.set_major_formatter(mdates.DateFormatter('%b'))\n",
    "plt.show()"
   ]
  },
  {
   "cell_type": "code",
   "execution_count": null,
   "id": "1ef3fca2",
   "metadata": {},
   "outputs": [],
   "source": [
    "# united_states\n",
    "x = united_states['date']\n",
    "y = united_states['new_cases_smoothed']\n",
    "fig = plt.figure(figsize=(15, 15))\n",
    "ax = fig.add_subplot(111)\n",
    "\n",
    "ax.plot(x,y)\n",
    "\n",
    "ax.set_ylabel('UNITS')\n",
    "ax.set_xlabel('TIME')\n",
    "ax.set_title('new_cases_smoothed')\n",
    "ax.xaxis.set_major_locator(mdates.MonthLocator())\n",
    "ax.xaxis.set_major_formatter(mdates.DateFormatter('%b'))\n",
    "plt.show()"
   ]
  },
  {
   "cell_type": "code",
   "execution_count": null,
   "id": "541e57ca",
   "metadata": {},
   "outputs": [],
   "source": [
    "# brazil\n",
    "x = brazil['date']\n",
    "y = brazil['new_cases_smoothed']\n",
    "fig = plt.figure(figsize=(15, 15))\n",
    "ax = fig.add_subplot(111)\n",
    "\n",
    "ax.plot(x,y)\n",
    "\n",
    "ax.set_ylabel('UNITS')\n",
    "ax.set_xlabel('TIME')\n",
    "ax.set_title('new_cases_smoothed')\n",
    "ax.xaxis.set_major_locator(mdates.MonthLocator())\n",
    "ax.xaxis.set_major_formatter(mdates.DateFormatter('%b'))\n",
    "plt.show()"
   ]
  },
  {
   "cell_type": "code",
   "execution_count": null,
   "id": "d545ad7d",
   "metadata": {
    "scrolled": true
   },
   "outputs": [],
   "source": [
    "# australia\n",
    "x = australia['date']\n",
    "y = australia['new_cases_smoothed']\n",
    "fig = plt.figure(figsize=(15, 15))\n",
    "ax = fig.add_subplot(111)\n",
    "\n",
    "ax.plot(x,y)\n",
    "\n",
    "ax.set_ylabel('UNITS')\n",
    "ax.set_xlabel('TIME')\n",
    "ax.set_title('new_cases_smoothed')\n",
    "ax.xaxis.set_major_locator(mdates.MonthLocator())\n",
    "ax.xaxis.set_major_formatter(mdates.DateFormatter('%b'))\n",
    "plt.show()"
   ]
  },
  {
   "cell_type": "code",
   "execution_count": null,
   "id": "5a81e350",
   "metadata": {},
   "outputs": [],
   "source": []
  }
 ],
 "metadata": {
  "kernelspec": {
   "display_name": "Python [conda env:PythonData] *",
   "language": "python",
   "name": "conda-env-PythonData-py"
  },
  "language_info": {
   "codemirror_mode": {
    "name": "ipython",
    "version": 3
   },
   "file_extension": ".py",
   "mimetype": "text/x-python",
   "name": "python",
   "nbconvert_exporter": "python",
   "pygments_lexer": "ipython3",
   "version": "3.7.7"
  }
 },
 "nbformat": 4,
 "nbformat_minor": 5
}
