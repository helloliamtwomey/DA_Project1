{
 "cells": [
  {
   "cell_type": "code",
   "execution_count": 1,
   "id": "0c5e253f",
   "metadata": {},
   "outputs": [],
   "source": [
    "#Import dependencies\n",
    "import matplotlib.pyplot as plt\n",
    "import pandas as pd\n",
    "import numpy as np\n",
    "import scipy.stats as st\n",
    "from scipy.stats import linregress"
   ]
  },
  {
   "cell_type": "code",
   "execution_count": 2,
   "id": "b3d4a8a2",
   "metadata": {},
   "outputs": [
    {
     "data": {
      "text/html": [
       "<div>\n",
       "<style scoped>\n",
       "    .dataframe tbody tr th:only-of-type {\n",
       "        vertical-align: middle;\n",
       "    }\n",
       "\n",
       "    .dataframe tbody tr th {\n",
       "        vertical-align: top;\n",
       "    }\n",
       "\n",
       "    .dataframe thead th {\n",
       "        text-align: right;\n",
       "    }\n",
       "</style>\n",
       "<table border=\"1\" class=\"dataframe\">\n",
       "  <thead>\n",
       "    <tr style=\"text-align: right;\">\n",
       "      <th></th>\n",
       "      <th>iso_code</th>\n",
       "      <th>continent</th>\n",
       "      <th>location</th>\n",
       "      <th>date</th>\n",
       "      <th>total_cases</th>\n",
       "      <th>new_cases</th>\n",
       "      <th>new_cases_smoothed</th>\n",
       "      <th>total_deaths</th>\n",
       "      <th>new_deaths</th>\n",
       "      <th>new_deaths_smoothed</th>\n",
       "      <th>...</th>\n",
       "      <th>female_smokers</th>\n",
       "      <th>male_smokers</th>\n",
       "      <th>handwashing_facilities</th>\n",
       "      <th>hospital_beds_per_thousand</th>\n",
       "      <th>life_expectancy</th>\n",
       "      <th>human_development_index</th>\n",
       "      <th>excess_mortality_cumulative_absolute</th>\n",
       "      <th>excess_mortality_cumulative</th>\n",
       "      <th>excess_mortality</th>\n",
       "      <th>excess_mortality_cumulative_per_million</th>\n",
       "    </tr>\n",
       "  </thead>\n",
       "  <tbody>\n",
       "    <tr>\n",
       "      <th>0</th>\n",
       "      <td>AFG</td>\n",
       "      <td>Asia</td>\n",
       "      <td>Afghanistan</td>\n",
       "      <td>24/02/2020</td>\n",
       "      <td>5.0</td>\n",
       "      <td>5.0</td>\n",
       "      <td>NaN</td>\n",
       "      <td>NaN</td>\n",
       "      <td>NaN</td>\n",
       "      <td>NaN</td>\n",
       "      <td>...</td>\n",
       "      <td>NaN</td>\n",
       "      <td>NaN</td>\n",
       "      <td>37.746</td>\n",
       "      <td>0.5</td>\n",
       "      <td>64.83</td>\n",
       "      <td>0.511</td>\n",
       "      <td>NaN</td>\n",
       "      <td>NaN</td>\n",
       "      <td>NaN</td>\n",
       "      <td>NaN</td>\n",
       "    </tr>\n",
       "    <tr>\n",
       "      <th>1</th>\n",
       "      <td>AFG</td>\n",
       "      <td>Asia</td>\n",
       "      <td>Afghanistan</td>\n",
       "      <td>25/02/2020</td>\n",
       "      <td>5.0</td>\n",
       "      <td>0.0</td>\n",
       "      <td>NaN</td>\n",
       "      <td>NaN</td>\n",
       "      <td>NaN</td>\n",
       "      <td>NaN</td>\n",
       "      <td>...</td>\n",
       "      <td>NaN</td>\n",
       "      <td>NaN</td>\n",
       "      <td>37.746</td>\n",
       "      <td>0.5</td>\n",
       "      <td>64.83</td>\n",
       "      <td>0.511</td>\n",
       "      <td>NaN</td>\n",
       "      <td>NaN</td>\n",
       "      <td>NaN</td>\n",
       "      <td>NaN</td>\n",
       "    </tr>\n",
       "    <tr>\n",
       "      <th>2</th>\n",
       "      <td>AFG</td>\n",
       "      <td>Asia</td>\n",
       "      <td>Afghanistan</td>\n",
       "      <td>26/02/2020</td>\n",
       "      <td>5.0</td>\n",
       "      <td>0.0</td>\n",
       "      <td>NaN</td>\n",
       "      <td>NaN</td>\n",
       "      <td>NaN</td>\n",
       "      <td>NaN</td>\n",
       "      <td>...</td>\n",
       "      <td>NaN</td>\n",
       "      <td>NaN</td>\n",
       "      <td>37.746</td>\n",
       "      <td>0.5</td>\n",
       "      <td>64.83</td>\n",
       "      <td>0.511</td>\n",
       "      <td>NaN</td>\n",
       "      <td>NaN</td>\n",
       "      <td>NaN</td>\n",
       "      <td>NaN</td>\n",
       "    </tr>\n",
       "    <tr>\n",
       "      <th>3</th>\n",
       "      <td>AFG</td>\n",
       "      <td>Asia</td>\n",
       "      <td>Afghanistan</td>\n",
       "      <td>27/02/2020</td>\n",
       "      <td>5.0</td>\n",
       "      <td>0.0</td>\n",
       "      <td>NaN</td>\n",
       "      <td>NaN</td>\n",
       "      <td>NaN</td>\n",
       "      <td>NaN</td>\n",
       "      <td>...</td>\n",
       "      <td>NaN</td>\n",
       "      <td>NaN</td>\n",
       "      <td>37.746</td>\n",
       "      <td>0.5</td>\n",
       "      <td>64.83</td>\n",
       "      <td>0.511</td>\n",
       "      <td>NaN</td>\n",
       "      <td>NaN</td>\n",
       "      <td>NaN</td>\n",
       "      <td>NaN</td>\n",
       "    </tr>\n",
       "    <tr>\n",
       "      <th>4</th>\n",
       "      <td>AFG</td>\n",
       "      <td>Asia</td>\n",
       "      <td>Afghanistan</td>\n",
       "      <td>28/02/2020</td>\n",
       "      <td>5.0</td>\n",
       "      <td>0.0</td>\n",
       "      <td>NaN</td>\n",
       "      <td>NaN</td>\n",
       "      <td>NaN</td>\n",
       "      <td>NaN</td>\n",
       "      <td>...</td>\n",
       "      <td>NaN</td>\n",
       "      <td>NaN</td>\n",
       "      <td>37.746</td>\n",
       "      <td>0.5</td>\n",
       "      <td>64.83</td>\n",
       "      <td>0.511</td>\n",
       "      <td>NaN</td>\n",
       "      <td>NaN</td>\n",
       "      <td>NaN</td>\n",
       "      <td>NaN</td>\n",
       "    </tr>\n",
       "  </tbody>\n",
       "</table>\n",
       "<p>5 rows × 67 columns</p>\n",
       "</div>"
      ],
      "text/plain": [
       "  iso_code continent     location        date  total_cases  new_cases  \\\n",
       "0      AFG      Asia  Afghanistan  24/02/2020          5.0        5.0   \n",
       "1      AFG      Asia  Afghanistan  25/02/2020          5.0        0.0   \n",
       "2      AFG      Asia  Afghanistan  26/02/2020          5.0        0.0   \n",
       "3      AFG      Asia  Afghanistan  27/02/2020          5.0        0.0   \n",
       "4      AFG      Asia  Afghanistan  28/02/2020          5.0        0.0   \n",
       "\n",
       "   new_cases_smoothed  total_deaths  new_deaths  new_deaths_smoothed  ...  \\\n",
       "0                 NaN           NaN         NaN                  NaN  ...   \n",
       "1                 NaN           NaN         NaN                  NaN  ...   \n",
       "2                 NaN           NaN         NaN                  NaN  ...   \n",
       "3                 NaN           NaN         NaN                  NaN  ...   \n",
       "4                 NaN           NaN         NaN                  NaN  ...   \n",
       "\n",
       "   female_smokers  male_smokers  handwashing_facilities  \\\n",
       "0             NaN           NaN                  37.746   \n",
       "1             NaN           NaN                  37.746   \n",
       "2             NaN           NaN                  37.746   \n",
       "3             NaN           NaN                  37.746   \n",
       "4             NaN           NaN                  37.746   \n",
       "\n",
       "   hospital_beds_per_thousand  life_expectancy  human_development_index  \\\n",
       "0                         0.5            64.83                    0.511   \n",
       "1                         0.5            64.83                    0.511   \n",
       "2                         0.5            64.83                    0.511   \n",
       "3                         0.5            64.83                    0.511   \n",
       "4                         0.5            64.83                    0.511   \n",
       "\n",
       "   excess_mortality_cumulative_absolute  excess_mortality_cumulative  \\\n",
       "0                                   NaN                          NaN   \n",
       "1                                   NaN                          NaN   \n",
       "2                                   NaN                          NaN   \n",
       "3                                   NaN                          NaN   \n",
       "4                                   NaN                          NaN   \n",
       "\n",
       "   excess_mortality  excess_mortality_cumulative_per_million  \n",
       "0               NaN                                      NaN  \n",
       "1               NaN                                      NaN  \n",
       "2               NaN                                      NaN  \n",
       "3               NaN                                      NaN  \n",
       "4               NaN                                      NaN  \n",
       "\n",
       "[5 rows x 67 columns]"
      ]
     },
     "execution_count": 2,
     "metadata": {},
     "output_type": "execute_result"
    }
   ],
   "source": [
    "#Read in the CSV\n",
    "data = 'owid-covid-data.csv'\n",
    "\n",
    "covid_data = pd.read_csv(data)\n",
    "\n",
    "covid_data.head()"
   ]
  },
  {
   "cell_type": "code",
   "execution_count": 3,
   "id": "4ccf1ed8",
   "metadata": {},
   "outputs": [
    {
     "data": {
      "text/plain": [
       "Index(['iso_code', 'continent', 'location', 'date', 'total_cases', 'new_cases',\n",
       "       'new_cases_smoothed', 'total_deaths', 'new_deaths',\n",
       "       'new_deaths_smoothed', 'total_cases_per_million',\n",
       "       'new_cases_per_million', 'new_cases_smoothed_per_million',\n",
       "       'total_deaths_per_million', 'new_deaths_per_million',\n",
       "       'new_deaths_smoothed_per_million', 'reproduction_rate', 'icu_patients',\n",
       "       'icu_patients_per_million', 'hosp_patients',\n",
       "       'hosp_patients_per_million', 'weekly_icu_admissions',\n",
       "       'weekly_icu_admissions_per_million', 'weekly_hosp_admissions',\n",
       "       'weekly_hosp_admissions_per_million', 'total_tests', 'new_tests',\n",
       "       'total_tests_per_thousand', 'new_tests_per_thousand',\n",
       "       'new_tests_smoothed', 'new_tests_smoothed_per_thousand',\n",
       "       'positive_rate', 'tests_per_case', 'tests_units', 'total_vaccinations',\n",
       "       'people_vaccinated', 'people_fully_vaccinated', 'total_boosters',\n",
       "       'new_vaccinations', 'new_vaccinations_smoothed',\n",
       "       'total_vaccinations_per_hundred', 'people_vaccinated_per_hundred',\n",
       "       'people_fully_vaccinated_per_hundred', 'total_boosters_per_hundred',\n",
       "       'new_vaccinations_smoothed_per_million',\n",
       "       'new_people_vaccinated_smoothed',\n",
       "       'new_people_vaccinated_smoothed_per_hundred', 'stringency_index',\n",
       "       'population', 'population_density', 'median_age', 'aged_65_older',\n",
       "       'aged_70_older', 'gdp_per_capita', 'extreme_poverty',\n",
       "       'cardiovasc_death_rate', 'diabetes_prevalence', 'female_smokers',\n",
       "       'male_smokers', 'handwashing_facilities', 'hospital_beds_per_thousand',\n",
       "       'life_expectancy', 'human_development_index',\n",
       "       'excess_mortality_cumulative_absolute', 'excess_mortality_cumulative',\n",
       "       'excess_mortality', 'excess_mortality_cumulative_per_million'],\n",
       "      dtype='object')"
      ]
     },
     "execution_count": 3,
     "metadata": {},
     "output_type": "execute_result"
    }
   ],
   "source": [
    "covid_data.keys()"
   ]
  },
  {
   "cell_type": "code",
   "execution_count": 4,
   "id": "c0bad5bc",
   "metadata": {},
   "outputs": [],
   "source": [
    "#Drop rows with no data\n",
    "Covid_Data_Drop = covid_data[['location','gdp_per_capita', 'hospital_beds_per_thousand', 'life_expectancy', 'total_deaths', 'total_tests_per_thousand', 'population', 'aged_65_older', 'aged_70_older' ]]\n",
    "Covid_Data_Drop = Covid_Data_Drop.dropna()"
   ]
  },
  {
   "cell_type": "code",
   "execution_count": 5,
   "id": "343e6428",
   "metadata": {},
   "outputs": [
    {
     "data": {
      "text/html": [
       "<div>\n",
       "<style scoped>\n",
       "    .dataframe tbody tr th:only-of-type {\n",
       "        vertical-align: middle;\n",
       "    }\n",
       "\n",
       "    .dataframe tbody tr th {\n",
       "        vertical-align: top;\n",
       "    }\n",
       "\n",
       "    .dataframe thead th {\n",
       "        text-align: right;\n",
       "    }\n",
       "</style>\n",
       "<table border=\"1\" class=\"dataframe\">\n",
       "  <thead>\n",
       "    <tr style=\"text-align: right;\">\n",
       "      <th></th>\n",
       "      <th>location</th>\n",
       "      <th>gdp_per_capita</th>\n",
       "      <th>hospital_beds_per_thousand</th>\n",
       "      <th>life_expectancy</th>\n",
       "      <th>total_deaths</th>\n",
       "      <th>total_tests_per_thousand</th>\n",
       "      <th>population</th>\n",
       "      <th>aged_65_older</th>\n",
       "      <th>aged_70_older</th>\n",
       "    </tr>\n",
       "  </thead>\n",
       "  <tbody>\n",
       "    <tr>\n",
       "      <th>705</th>\n",
       "      <td>Afghanistan</td>\n",
       "      <td>1803.987</td>\n",
       "      <td>0.5</td>\n",
       "      <td>64.83</td>\n",
       "      <td>7405.0</td>\n",
       "      <td>21.413</td>\n",
       "      <td>40099462.0</td>\n",
       "      <td>2.581</td>\n",
       "      <td>1.337</td>\n",
       "    </tr>\n",
       "    <tr>\n",
       "      <th>733</th>\n",
       "      <td>Afghanistan</td>\n",
       "      <td>1803.987</td>\n",
       "      <td>0.5</td>\n",
       "      <td>64.83</td>\n",
       "      <td>7585.0</td>\n",
       "      <td>22.328</td>\n",
       "      <td>40099462.0</td>\n",
       "      <td>2.581</td>\n",
       "      <td>1.337</td>\n",
       "    </tr>\n",
       "    <tr>\n",
       "      <th>747</th>\n",
       "      <td>Afghanistan</td>\n",
       "      <td>1803.987</td>\n",
       "      <td>0.5</td>\n",
       "      <td>64.83</td>\n",
       "      <td>7641.0</td>\n",
       "      <td>22.695</td>\n",
       "      <td>40099462.0</td>\n",
       "      <td>2.581</td>\n",
       "      <td>1.337</td>\n",
       "    </tr>\n",
       "    <tr>\n",
       "      <th>820</th>\n",
       "      <td>Afghanistan</td>\n",
       "      <td>1803.987</td>\n",
       "      <td>0.5</td>\n",
       "      <td>64.83</td>\n",
       "      <td>7698.0</td>\n",
       "      <td>24.648</td>\n",
       "      <td>40099462.0</td>\n",
       "      <td>2.581</td>\n",
       "      <td>1.337</td>\n",
       "    </tr>\n",
       "    <tr>\n",
       "      <th>850</th>\n",
       "      <td>Afghanistan</td>\n",
       "      <td>1803.987</td>\n",
       "      <td>0.5</td>\n",
       "      <td>64.83</td>\n",
       "      <td>7715.0</td>\n",
       "      <td>24.975</td>\n",
       "      <td>40099462.0</td>\n",
       "      <td>2.581</td>\n",
       "      <td>1.337</td>\n",
       "    </tr>\n",
       "    <tr>\n",
       "      <th>...</th>\n",
       "      <td>...</td>\n",
       "      <td>...</td>\n",
       "      <td>...</td>\n",
       "      <td>...</td>\n",
       "      <td>...</td>\n",
       "      <td>...</td>\n",
       "      <td>...</td>\n",
       "      <td>...</td>\n",
       "      <td>...</td>\n",
       "    </tr>\n",
       "    <tr>\n",
       "      <th>207254</th>\n",
       "      <td>Zimbabwe</td>\n",
       "      <td>1899.775</td>\n",
       "      <td>1.7</td>\n",
       "      <td>61.49</td>\n",
       "      <td>5515.0</td>\n",
       "      <td>155.794</td>\n",
       "      <td>15993524.0</td>\n",
       "      <td>2.822</td>\n",
       "      <td>1.882</td>\n",
       "    </tr>\n",
       "    <tr>\n",
       "      <th>207258</th>\n",
       "      <td>Zimbabwe</td>\n",
       "      <td>1899.775</td>\n",
       "      <td>1.7</td>\n",
       "      <td>61.49</td>\n",
       "      <td>5521.0</td>\n",
       "      <td>156.347</td>\n",
       "      <td>15993524.0</td>\n",
       "      <td>2.822</td>\n",
       "      <td>1.882</td>\n",
       "    </tr>\n",
       "    <tr>\n",
       "      <th>207262</th>\n",
       "      <td>Zimbabwe</td>\n",
       "      <td>1899.775</td>\n",
       "      <td>1.7</td>\n",
       "      <td>61.49</td>\n",
       "      <td>5526.0</td>\n",
       "      <td>156.751</td>\n",
       "      <td>15993524.0</td>\n",
       "      <td>2.822</td>\n",
       "      <td>1.882</td>\n",
       "    </tr>\n",
       "    <tr>\n",
       "      <th>207266</th>\n",
       "      <td>Zimbabwe</td>\n",
       "      <td>1899.775</td>\n",
       "      <td>1.7</td>\n",
       "      <td>61.49</td>\n",
       "      <td>5534.0</td>\n",
       "      <td>157.320</td>\n",
       "      <td>15993524.0</td>\n",
       "      <td>2.822</td>\n",
       "      <td>1.882</td>\n",
       "    </tr>\n",
       "    <tr>\n",
       "      <th>207268</th>\n",
       "      <td>Zimbabwe</td>\n",
       "      <td>1899.775</td>\n",
       "      <td>1.7</td>\n",
       "      <td>61.49</td>\n",
       "      <td>5541.0</td>\n",
       "      <td>157.691</td>\n",
       "      <td>15993524.0</td>\n",
       "      <td>2.822</td>\n",
       "      <td>1.882</td>\n",
       "    </tr>\n",
       "  </tbody>\n",
       "</table>\n",
       "<p>67008 rows × 9 columns</p>\n",
       "</div>"
      ],
      "text/plain": [
       "           location  gdp_per_capita  hospital_beds_per_thousand  \\\n",
       "705     Afghanistan        1803.987                         0.5   \n",
       "733     Afghanistan        1803.987                         0.5   \n",
       "747     Afghanistan        1803.987                         0.5   \n",
       "820     Afghanistan        1803.987                         0.5   \n",
       "850     Afghanistan        1803.987                         0.5   \n",
       "...             ...             ...                         ...   \n",
       "207254     Zimbabwe        1899.775                         1.7   \n",
       "207258     Zimbabwe        1899.775                         1.7   \n",
       "207262     Zimbabwe        1899.775                         1.7   \n",
       "207266     Zimbabwe        1899.775                         1.7   \n",
       "207268     Zimbabwe        1899.775                         1.7   \n",
       "\n",
       "        life_expectancy  total_deaths  total_tests_per_thousand  population  \\\n",
       "705               64.83        7405.0                    21.413  40099462.0   \n",
       "733               64.83        7585.0                    22.328  40099462.0   \n",
       "747               64.83        7641.0                    22.695  40099462.0   \n",
       "820               64.83        7698.0                    24.648  40099462.0   \n",
       "850               64.83        7715.0                    24.975  40099462.0   \n",
       "...                 ...           ...                       ...         ...   \n",
       "207254            61.49        5515.0                   155.794  15993524.0   \n",
       "207258            61.49        5521.0                   156.347  15993524.0   \n",
       "207262            61.49        5526.0                   156.751  15993524.0   \n",
       "207266            61.49        5534.0                   157.320  15993524.0   \n",
       "207268            61.49        5541.0                   157.691  15993524.0   \n",
       "\n",
       "        aged_65_older  aged_70_older  \n",
       "705             2.581          1.337  \n",
       "733             2.581          1.337  \n",
       "747             2.581          1.337  \n",
       "820             2.581          1.337  \n",
       "850             2.581          1.337  \n",
       "...               ...            ...  \n",
       "207254          2.822          1.882  \n",
       "207258          2.822          1.882  \n",
       "207262          2.822          1.882  \n",
       "207266          2.822          1.882  \n",
       "207268          2.822          1.882  \n",
       "\n",
       "[67008 rows x 9 columns]"
      ]
     },
     "execution_count": 5,
     "metadata": {},
     "output_type": "execute_result"
    }
   ],
   "source": [
    "Covid_Data_Drop"
   ]
  },
  {
   "cell_type": "code",
   "execution_count": 6,
   "id": "de84afaa",
   "metadata": {},
   "outputs": [
    {
     "data": {
      "text/plain": [
       "144"
      ]
     },
     "execution_count": 6,
     "metadata": {},
     "output_type": "execute_result"
    }
   ],
   "source": [
    "#Check the number of Unique Locations\n",
    "Total_Location_Count = Covid_Data_Drop['location'].nunique()\n",
    "Total_Location_Count"
   ]
  },
  {
   "cell_type": "markdown",
   "id": "723f81af",
   "metadata": {},
   "source": [
    "Create an overview table that summarises key metrics about each coungtry location, including:\n",
    "GDP Mean, Hospital Beds Per Thousand, Life Expectancy Mean, Total Deaths, Total Tests Per Thousand Mean"
   ]
  },
  {
   "cell_type": "code",
   "execution_count": 7,
   "id": "f7cf6881",
   "metadata": {},
   "outputs": [],
   "source": [
    "# Location Summary \n",
    "Covid_Data_Drop = Covid_Data_Drop.set_index(\"location\")\n",
    "Location_Grouped = Covid_Data_Drop.groupby([\"location\"])"
   ]
  },
  {
   "cell_type": "code",
   "execution_count": 8,
   "id": "24ecd35a",
   "metadata": {},
   "outputs": [
    {
     "data": {
      "text/plain": [
       "location\n",
       "Afghanistan             1803.987\n",
       "Albania                11803.431\n",
       "Algeria                13913.839\n",
       "Antigua and Barbuda    21490.943\n",
       "Argentina              18933.907\n",
       "                         ...    \n",
       "Uruguay                20551.409\n",
       "Vietnam                 6171.884\n",
       "Yemen                   1479.147\n",
       "Zambia                  3689.251\n",
       "Zimbabwe                1899.775\n",
       "Name: gdp_per_capita, Length: 144, dtype: float64"
      ]
     },
     "execution_count": 8,
     "metadata": {},
     "output_type": "execute_result"
    }
   ],
   "source": [
    "# Average GDP per country location\n",
    "Ave_GDP = Location_Grouped[\"gdp_per_capita\"].mean()\n",
    "Ave_GDP "
   ]
  },
  {
   "cell_type": "code",
   "execution_count": 9,
   "id": "ed49ae2a",
   "metadata": {},
   "outputs": [
    {
     "data": {
      "text/plain": [
       "location\n",
       "Afghanistan            0.50\n",
       "Albania                2.89\n",
       "Algeria                1.90\n",
       "Antigua and Barbuda    3.80\n",
       "Argentina              5.00\n",
       "                       ... \n",
       "Uruguay                2.80\n",
       "Vietnam                2.60\n",
       "Yemen                  0.70\n",
       "Zambia                 2.00\n",
       "Zimbabwe               1.70\n",
       "Name: hospital_beds_per_thousand, Length: 144, dtype: float64"
      ]
     },
     "execution_count": 9,
     "metadata": {},
     "output_type": "execute_result"
    }
   ],
   "source": [
    "# Average hospital beds per thousand per country location\n",
    "Ave_Hospital_Beds = Location_Grouped[\"hospital_beds_per_thousand\"].mean()\n",
    "Ave_Hospital_Beds "
   ]
  },
  {
   "cell_type": "code",
   "execution_count": 10,
   "id": "b10dab79",
   "metadata": {},
   "outputs": [
    {
     "data": {
      "text/plain": [
       "location\n",
       "Afghanistan            64.83\n",
       "Albania                78.57\n",
       "Algeria                76.88\n",
       "Antigua and Barbuda    77.02\n",
       "Argentina              76.67\n",
       "                       ...  \n",
       "Uruguay                77.91\n",
       "Vietnam                75.40\n",
       "Yemen                  66.12\n",
       "Zambia                 63.89\n",
       "Zimbabwe               61.49\n",
       "Name: life_expectancy, Length: 144, dtype: float64"
      ]
     },
     "execution_count": 10,
     "metadata": {},
     "output_type": "execute_result"
    }
   ],
   "source": [
    "#Life Expectancy Average per country\n",
    "Ave_LifeExpectancy = Location_Grouped[\"life_expectancy\"].mean()\n",
    "Ave_LifeExpectancy "
   ]
  },
  {
   "cell_type": "code",
   "execution_count": 11,
   "id": "8bcb7a86",
   "metadata": {},
   "outputs": [
    {
     "data": {
      "text/plain": [
       "location\n",
       "Afghanistan             23.211800\n",
       "Albania                198.943211\n",
       "Algeria                  5.167000\n",
       "Antigua and Barbuda     79.274333\n",
       "Argentina              321.606265\n",
       "                          ...    \n",
       "Uruguay                600.904013\n",
       "Vietnam                713.807303\n",
       "Yemen                   10.930500\n",
       "Zambia                  84.071359\n",
       "Zimbabwe                46.575313\n",
       "Name: total_tests_per_thousand, Length: 144, dtype: float64"
      ]
     },
     "execution_count": 11,
     "metadata": {},
     "output_type": "execute_result"
    }
   ],
   "source": [
    "#Testing Average per Thousand\n",
    "Ave_Testing = Location_Grouped[\"total_tests_per_thousand\"].mean()\n",
    "Ave_Testing"
   ]
  },
  {
   "cell_type": "code",
   "execution_count": 12,
   "id": "68712888",
   "metadata": {},
   "outputs": [
    {
     "data": {
      "text/plain": [
       "location\n",
       "Afghanistan            40099462.0\n",
       "Albania                 2854710.0\n",
       "Algeria                44177969.0\n",
       "Antigua and Barbuda       93220.0\n",
       "Argentina              45276780.0\n",
       "                          ...    \n",
       "Uruguay                 3426260.0\n",
       "Vietnam                97468028.0\n",
       "Yemen                  32981641.0\n",
       "Zambia                 19473125.0\n",
       "Zimbabwe               15993524.0\n",
       "Name: population, Length: 144, dtype: float64"
      ]
     },
     "execution_count": 12,
     "metadata": {},
     "output_type": "execute_result"
    }
   ],
   "source": [
    "#Grab population data\n",
    "Ave_Population = Location_Grouped[\"population\"].mean()\n",
    "Ave_Population "
   ]
  },
  {
   "cell_type": "code",
   "execution_count": 13,
   "id": "cabcba52",
   "metadata": {},
   "outputs": [
    {
     "data": {
      "text/plain": [
       "location\n",
       "Afghanistan              7715.0\n",
       "Albania                  3497.0\n",
       "Algeria                  6857.0\n",
       "Antigua and Barbuda        42.0\n",
       "Argentina              128889.0\n",
       "                         ...   \n",
       "Uruguay                  7197.0\n",
       "Vietnam                 43083.0\n",
       "Yemen                    2149.0\n",
       "Zambia                   3990.0\n",
       "Zimbabwe                 5541.0\n",
       "Name: total_deaths, Length: 144, dtype: float64"
      ]
     },
     "execution_count": 13,
     "metadata": {},
     "output_type": "execute_result"
    }
   ],
   "source": [
    "#Grab total Deaths Per Country location? \n",
    "Total_Deaths = Location_Grouped[\"total_deaths\"].max()\n",
    "Total_Deaths     "
   ]
  },
  {
   "cell_type": "code",
   "execution_count": 14,
   "id": "bb3d05bf",
   "metadata": {},
   "outputs": [
    {
     "data": {
      "text/plain": [
       "location\n",
       "Afghanistan             2.581\n",
       "Albania                13.188\n",
       "Algeria                 6.211\n",
       "Antigua and Barbuda     6.933\n",
       "Argentina              11.198\n",
       "                        ...  \n",
       "Uruguay                14.655\n",
       "Vietnam                 7.150\n",
       "Yemen                   2.922\n",
       "Zambia                  2.480\n",
       "Zimbabwe                2.822\n",
       "Name: aged_65_older, Length: 144, dtype: float64"
      ]
     },
     "execution_count": 14,
     "metadata": {},
     "output_type": "execute_result"
    }
   ],
   "source": [
    "#Grab aged 65 and older\n",
    "Aged_65_Older = Location_Grouped[\"aged_65_older\"].mean()\n",
    "Aged_65_Older"
   ]
  },
  {
   "cell_type": "code",
   "execution_count": 15,
   "id": "8ff502d8",
   "metadata": {},
   "outputs": [
    {
     "data": {
      "text/plain": [
       "location\n",
       "Afghanistan             1.337\n",
       "Albania                 8.643\n",
       "Algeria                 3.857\n",
       "Antigua and Barbuda     4.631\n",
       "Argentina               7.441\n",
       "                        ...  \n",
       "Uruguay                10.361\n",
       "Vietnam                 4.718\n",
       "Yemen                   1.583\n",
       "Zambia                  1.542\n",
       "Zimbabwe                1.882\n",
       "Name: aged_70_older, Length: 144, dtype: float64"
      ]
     },
     "execution_count": 15,
     "metadata": {},
     "output_type": "execute_result"
    }
   ],
   "source": [
    "#Grab aged 70 and older\n",
    "Aged_70_Older = Location_Grouped[\"aged_70_older\"].mean()\n",
    "Aged_70_Older"
   ]
  },
  {
   "cell_type": "code",
   "execution_count": 16,
   "id": "9a6fc994",
   "metadata": {},
   "outputs": [
    {
     "data": {
      "text/html": [
       "<div>\n",
       "<style scoped>\n",
       "    .dataframe tbody tr th:only-of-type {\n",
       "        vertical-align: middle;\n",
       "    }\n",
       "\n",
       "    .dataframe tbody tr th {\n",
       "        vertical-align: top;\n",
       "    }\n",
       "\n",
       "    .dataframe thead th {\n",
       "        text-align: right;\n",
       "    }\n",
       "</style>\n",
       "<table border=\"1\" class=\"dataframe\">\n",
       "  <thead>\n",
       "    <tr style=\"text-align: right;\">\n",
       "      <th></th>\n",
       "      <th>Total Population</th>\n",
       "      <th>Country GDP</th>\n",
       "      <th>Hospital Beds</th>\n",
       "      <th>Life Expectancy</th>\n",
       "      <th>Testing per Thousand</th>\n",
       "      <th>Total Deaths</th>\n",
       "      <th>Over 65 Years</th>\n",
       "      <th>Over 70 Years</th>\n",
       "    </tr>\n",
       "    <tr>\n",
       "      <th>location</th>\n",
       "      <th></th>\n",
       "      <th></th>\n",
       "      <th></th>\n",
       "      <th></th>\n",
       "      <th></th>\n",
       "      <th></th>\n",
       "      <th></th>\n",
       "      <th></th>\n",
       "    </tr>\n",
       "  </thead>\n",
       "  <tbody>\n",
       "    <tr>\n",
       "      <th>Afghanistan</th>\n",
       "      <td>40099462.0</td>\n",
       "      <td>1803.987</td>\n",
       "      <td>0.50</td>\n",
       "      <td>64.83</td>\n",
       "      <td>23.211800</td>\n",
       "      <td>7715.0</td>\n",
       "      <td>2.581</td>\n",
       "      <td>1.337</td>\n",
       "    </tr>\n",
       "    <tr>\n",
       "      <th>Albania</th>\n",
       "      <td>2854710.0</td>\n",
       "      <td>11803.431</td>\n",
       "      <td>2.89</td>\n",
       "      <td>78.57</td>\n",
       "      <td>198.943211</td>\n",
       "      <td>3497.0</td>\n",
       "      <td>13.188</td>\n",
       "      <td>8.643</td>\n",
       "    </tr>\n",
       "    <tr>\n",
       "      <th>Algeria</th>\n",
       "      <td>44177969.0</td>\n",
       "      <td>13913.839</td>\n",
       "      <td>1.90</td>\n",
       "      <td>76.88</td>\n",
       "      <td>5.167000</td>\n",
       "      <td>6857.0</td>\n",
       "      <td>6.211</td>\n",
       "      <td>3.857</td>\n",
       "    </tr>\n",
       "    <tr>\n",
       "      <th>Antigua and Barbuda</th>\n",
       "      <td>93220.0</td>\n",
       "      <td>21490.943</td>\n",
       "      <td>3.80</td>\n",
       "      <td>77.02</td>\n",
       "      <td>79.274333</td>\n",
       "      <td>42.0</td>\n",
       "      <td>6.933</td>\n",
       "      <td>4.631</td>\n",
       "    </tr>\n",
       "    <tr>\n",
       "      <th>Argentina</th>\n",
       "      <td>45276780.0</td>\n",
       "      <td>18933.907</td>\n",
       "      <td>5.00</td>\n",
       "      <td>76.67</td>\n",
       "      <td>321.606265</td>\n",
       "      <td>128889.0</td>\n",
       "      <td>11.198</td>\n",
       "      <td>7.441</td>\n",
       "    </tr>\n",
       "  </tbody>\n",
       "</table>\n",
       "</div>"
      ],
      "text/plain": [
       "                     Total Population  Country GDP  Hospital Beds  \\\n",
       "location                                                            \n",
       "Afghanistan                40099462.0     1803.987           0.50   \n",
       "Albania                     2854710.0    11803.431           2.89   \n",
       "Algeria                    44177969.0    13913.839           1.90   \n",
       "Antigua and Barbuda           93220.0    21490.943           3.80   \n",
       "Argentina                  45276780.0    18933.907           5.00   \n",
       "\n",
       "                     Life Expectancy  Testing per Thousand  Total Deaths  \\\n",
       "location                                                                   \n",
       "Afghanistan                    64.83             23.211800        7715.0   \n",
       "Albania                        78.57            198.943211        3497.0   \n",
       "Algeria                        76.88              5.167000        6857.0   \n",
       "Antigua and Barbuda            77.02             79.274333          42.0   \n",
       "Argentina                      76.67            321.606265      128889.0   \n",
       "\n",
       "                     Over 65 Years  Over 70 Years  \n",
       "location                                           \n",
       "Afghanistan                  2.581          1.337  \n",
       "Albania                     13.188          8.643  \n",
       "Algeria                      6.211          3.857  \n",
       "Antigua and Barbuda          6.933          4.631  \n",
       "Argentina                   11.198          7.441  "
      ]
     },
     "execution_count": 16,
     "metadata": {},
     "output_type": "execute_result"
    }
   ],
   "source": [
    "# Created a data frame to hold above results\n",
    "Location_Summary = pd.DataFrame({'Total Population': Ave_Population,\n",
    "                               'Country GDP': Ave_GDP,\n",
    "                               'Hospital Beds': Ave_Hospital_Beds,\n",
    "                               'Life Expectancy': Ave_LifeExpectancy, \n",
    "                               'Testing per Thousand': Ave_Testing,\n",
    "                               'Total Deaths': Total_Deaths,\n",
    "                               'Over 65 Years': Aged_65_Older,\n",
    "                               'Over 70 Years': Aged_70_Older  \n",
    "                               })\n",
    "Location_Summary.head()"
   ]
  },
  {
   "cell_type": "code",
   "execution_count": 17,
   "id": "df875735",
   "metadata": {},
   "outputs": [],
   "source": [
    "# Cleaner formatting for the rest of the results by using mapping \n",
    "#Location_Summary['Total Population'] = Location_Summary['Total Population'].map(\"{:,.2f}\".format)\n",
    "#Location_Summary['Country GDP'] = Location_Summary['Country GDP'].map(\"{:.2f}\".format)\n",
    "#Location_Summary['Testing per Thousand'] = Location_Summary['Testing per Thousand'].map('{:.2f}'.format)\n",
    "#Location_Summary['Total Deaths'] = School_Summary['Total Deaths'].map('{:.2f}'.format)\n"
   ]
  },
  {
   "cell_type": "code",
   "execution_count": 18,
   "id": "c0303324",
   "metadata": {},
   "outputs": [],
   "source": [
    "# Define a function to create linear regression for a Country and y_axis vs Country GDP\n",
    "def create_linear_regression(linear_regression_parms_dict):\n",
    "    \n",
    "    # Save the parms value from parms dict\n",
    "    Location_Summary = linear_regression_parms_dict.get(\"Location_Summary\")\n",
    "    x_values       = linear_regression_parms_dict.get(\"x_values\")\n",
    "    y_values       = linear_regression_parms_dict.get(\"y_values\")\n",
    "    ylabel         = linear_regression_parms_dict.get(\"ylabel\")\n",
    "    unit           = linear_regression_parms_dict.get(\"unit\")\n",
    "    annotatate_x   = linear_regression_parms_dict.get(\"annotatate_x\")  \n",
    "    annotatate_y   = linear_regression_parms_dict.get(\"annotatate_y\") \n",
    "    \n",
    "    # Perform a linear regression on y_values vs. x_values\n",
    "    (slope, intercept, rvalue, pvalue, stderr) = linregress(x_values, y_values)\n",
    "\n",
    "    # Get regression values\n",
    "    regress_values = x_values * slope + intercept\n",
    "\n",
    "    # Create line equation string\n",
    "    line_eq = \"y = \" + str(round(slope,2)) + \"x + \" + str(round(intercept,2))\n",
    "\n",
    "    # Compare the calcualted Pearson's r to the plots\n",
    "    plt.scatter( x_values\n",
    "               , y_values\n",
    "               , color=\"blue\")\n",
    "\n",
    "    # Add the line regresssion to plot\n",
    "    plt.plot(x_values,regress_values,\"r-\")\n",
    "\n",
    "    # Annotate the line equation\n",
    "    plt.annotate(line_eq,(annotatate_x, annotatate_y),fontsize=10,color=\"red\")\n",
    "\n",
    "    # Set the title and x & y labels\n",
    "    xlabel = \"Country GDP\"\n",
    "    plt.xlabel (f\"{xlabel}\")\n",
    "    plt.ylabel (f\"{ylabel} {unit}\")\n",
    "    plt.title  (f\"{Location_Summary} {ylabel}  vs. {xlabel}\")\n",
    "\n",
    "     # Print r value\n",
    "    print(f\"The r-value is: {rvalue**2}\")\n",
    "\n",
    "    # Show plot\n",
    "    plt.show()"
   ]
  },
  {
   "cell_type": "code",
   "execution_count": 19,
   "id": "ecece380",
   "metadata": {},
   "outputs": [
    {
     "name": "stdout",
     "output_type": "stream",
     "text": [
      "The r-value is: 0.45556171859362243\n"
     ]
    },
    {
     "data": {
      "image/png": "[encoded data removed]",
      "text/plain": [
       "<Figure size 432x288 with 1 Axes>"
      ]
     },
     "metadata": {
      "needs_background": "light"
     },
     "output_type": "display_data"
    }
   ],
   "source": [
    "# Calculate the linear regression equation Country - Life Expectancy vs. Country GDP\n",
    "\n",
    "# Save the data to create the scatter plot in a dictionary\n",
    "linear_regression_parms_dict = { \"Location_Summary\" : \"Country\"\n",
    "                               , \"x_values\"       : Location_Summary[\"Country GDP\"]\n",
    "                               , \"y_values\"       : Location_Summary[\"Life Expectancy\"]\n",
    "                               , \"ylabel\"         : \"Life Expectancy\"\n",
    "                               , \"annotatate_x\"   : 20\n",
    "                               , \"annotatate_y\"   : 50                           \n",
    "}\n",
    "\n",
    "# Call the function to create the linear regression\n",
    "create_linear_regression(linear_regression_parms_dict )"
   ]
  },
  {
   "cell_type": "code",
   "execution_count": 20,
   "id": "6c3a817d",
   "metadata": {},
   "outputs": [
    {
     "name": "stdout",
     "output_type": "stream",
     "text": [
      "The r-value is: 0.113512150274987\n"
     ]
    },
    {
     "data": {
      "image/png": "[encoded data removed]",
      "text/plain": [
       "<Figure size 432x288 with 1 Axes>"
      ]
     },
     "metadata": {
      "needs_background": "light"
     },
     "output_type": "display_data"
    }
   ],
   "source": [
    "# Calculate the linear regression equation Country - Hospital Beds per Thousand vs. Country GDP\n",
    "\n",
    "# Save the data to create the scatter plot in a dictionary\n",
    "linear_regression_parms_dict = { \"Location_Summary\" : \"Country\"\n",
    "                               , \"x_values\"       : Location_Summary[\"Country GDP\"]\n",
    "                               , \"y_values\"       : Location_Summary[\"Hospital Beds\"]\n",
    "                               , \"ylabel\"         : \"Hospital Beds\"\n",
    "                               , \"annotatate_x\"   : 20\n",
    "                               , \"annotatate_y\"   : 50                           \n",
    "}\n",
    "\n",
    "# Call the function to create the linear regression\n",
    "create_linear_regression(linear_regression_parms_dict )"
   ]
  },
  {
   "cell_type": "code",
   "execution_count": 21,
   "id": "02254920",
   "metadata": {},
   "outputs": [
    {
     "name": "stdout",
     "output_type": "stream",
     "text": [
      "The r-value is: 0.2320736140816916\n"
     ]
    },
    {
     "data": {
      "image/png": "[encoded data removed]",
      "text/plain": [
       "<Figure size 432x288 with 1 Axes>"
      ]
     },
     "metadata": {
      "needs_background": "light"
     },
     "output_type": "display_data"
    }
   ],
   "source": [
    "# Calculate the linear regression equation Country - Tests per Thousand vs. Country GDP\n",
    "\n",
    "# Save the data to create the scatter plot in a dictionary\n",
    "linear_regression_parms_dict = { \"Location_Summary\" : \"Country\"\n",
    "                              , \"x_values\"       : Location_Summary[\"Country GDP\"]\n",
    "                               , \"y_values\"       : Location_Summary[\"Testing per Thousand\"]\n",
    "                               , \"ylabel\"         : \"Tests Per Thousand\"\n",
    "                               , \"annotatate_x\"   : 20\n",
    "                               , \"annotatate_y\"   : 50                           \n",
    "}\n",
    "\n",
    "# Call the function to create the linear regression\n",
    "create_linear_regression(linear_regression_parms_dict )"
   ]
  },
  {
   "cell_type": "code",
   "execution_count": 22,
   "id": "a9f0cb16",
   "metadata": {},
   "outputs": [
    {
     "name": "stdout",
     "output_type": "stream",
     "text": [
      "The r-value is: 0.010014935570917195\n"
     ]
    },
    {
     "data": {
      "image/png": "[encoded data removed]",
      "text/plain": [
       "<Figure size 432x288 with 1 Axes>"
      ]
     },
     "metadata": {
      "needs_background": "light"
     },
     "output_type": "display_data"
    }
   ],
   "source": [
    "# Calculate the linear regression equation Country - Total Deaths vs. Country GDP\n",
    "\n",
    "# Save the data to create the scatter plot in a dictionary\n",
    "linear_regression_parms_dict = { \"Location_Summary\" : \"Country\"\n",
    "                               , \"x_values\"       : Location_Summary[\"Country GDP\"]\n",
    "                               , \"y_values\"       : Location_Summary[\"Total Deaths\"]\n",
    "                               , \"ylabel\"         : \"Total Deaths\"\n",
    "                               , \"annotatate_x\"   : 20\n",
    "                               , \"annotatate_y\"   : 50                           \n",
    "}\n",
    "\n",
    "# Call the function to create the linear regression\n",
    "create_linear_regression(linear_regression_parms_dict )"
   ]
  },
  {
   "cell_type": "code",
   "execution_count": 23,
   "id": "c65861b0",
   "metadata": {},
   "outputs": [],
   "source": [
    "# Define a function to create linear regression for a Country and y_axis vs Total Deaths\n",
    "def create_linear_regression(linear_regression_parms_dict):\n",
    "    \n",
    "    # Save the parms value from parms dict\n",
    "    Location_Summary = linear_regression_parms_dict.get(\"Location_Summary\")\n",
    "    x_values       = linear_regression_parms_dict.get(\"x_values\")\n",
    "    y_values       = linear_regression_parms_dict.get(\"y_values\")\n",
    "    ylabel         = linear_regression_parms_dict.get(\"ylabel\")\n",
    "    unit           = linear_regression_parms_dict.get(\"unit\")\n",
    "    annotatate_x   = linear_regression_parms_dict.get(\"annotatate_x\")  \n",
    "    annotatate_y   = linear_regression_parms_dict.get(\"annotatate_y\") \n",
    "    \n",
    "    # Perform a linear regression on y_values vs. x_values\n",
    "    (slope, intercept, rvalue, pvalue, stderr) = linregress(x_values, y_values)\n",
    "\n",
    "    # Get regression values\n",
    "    regress_values = x_values * slope + intercept\n",
    "\n",
    "    # Create line equation string\n",
    "    line_eq = \"y = \" + str(round(slope,2)) + \"x + \" + str(round(intercept,2))\n",
    "\n",
    "    # Compare the calcualted Pearson's r to the plots\n",
    "    plt.scatter( x_values\n",
    "               , y_values\n",
    "               , color=\"blue\")\n",
    "\n",
    "    # Add the line regresssion to plot\n",
    "    plt.plot(x_values,regress_values,\"r-\")\n",
    "\n",
    "    # Annotate the line equation\n",
    "    plt.annotate(line_eq,(annotatate_x, annotatate_y),fontsize=10,color=\"red\")\n",
    "\n",
    "    # Set the title and x & y labels\n",
    "    xlabel = \"Total Deaths\"\n",
    "    plt.xlabel (f\"{xlabel}\")\n",
    "    plt.ylabel (f\"{ylabel} {unit}\")\n",
    "    plt.title  (f\"{Location_Summary} {ylabel}  vs. {xlabel}\")\n",
    "\n",
    "     # Print r value\n",
    "    print(f\"The r-value is: {rvalue**2}\")\n",
    "\n",
    "    # Show plot\n",
    "    plt.show()"
   ]
  },
  {
   "cell_type": "code",
   "execution_count": 24,
   "id": "c5c11d8d",
   "metadata": {},
   "outputs": [
    {
     "name": "stdout",
     "output_type": "stream",
     "text": [
      "The r-value is: 0.019629350043058696\n"
     ]
    },
    {
     "data": {
      "image/png": "[encoded data removed]",
      "text/plain": [
       "<Figure size 432x288 with 1 Axes>"
      ]
     },
     "metadata": {
      "needs_background": "light"
     },
     "output_type": "display_data"
    }
   ],
   "source": [
    "# Calculate the linear regression equation Country - Total Deaths vs. Life Expectancy\n",
    "\n",
    "# Save the data to create the scatter plot in a dictionary\n",
    "linear_regression_parms_dict = { \"Location_Summary\" : \"Country\"\n",
    "                               , \"x_values\"       : Location_Summary[\"Total Deaths\"]\n",
    "                               , \"y_values\"       : Location_Summary[\"Life Expectancy\"]\n",
    "                               , \"ylabel\"         : \"Life Expectancy\"\n",
    "                               , \"annotatate_x\"   : 20\n",
    "                               , \"annotatate_y\"   : 50                           \n",
    "}\n",
    "\n",
    "# Call the function to create the linear regression\n",
    "create_linear_regression(linear_regression_parms_dict )"
   ]
  },
  {
   "cell_type": "code",
   "execution_count": 25,
   "id": "e616ff9f",
   "metadata": {},
   "outputs": [
    {
     "name": "stdout",
     "output_type": "stream",
     "text": [
      "The r-value is: 0.022101840601024006\n"
     ]
    },
    {
     "data": {
      "image/png": "[encoded data removed]",
      "text/plain": [
       "<Figure size 432x288 with 1 Axes>"
      ]
     },
     "metadata": {
      "needs_background": "light"
     },
     "output_type": "display_data"
    }
   ],
   "source": [
    "# Calculate the linear regression equation Country - Total Deaths vs. Over 65 Years of Age\n",
    "\n",
    "# Save the data to create the scatter plot in a dictionary\n",
    "linear_regression_parms_dict = { \"Location_Summary\" : \"Country\"\n",
    "                               , \"x_values\"       : Location_Summary[\"Total Deaths\"]\n",
    "                               , \"y_values\"       : Location_Summary[\"Over 65 Years\"]\n",
    "                               , \"ylabel\"         : \"Over 65 Years\"\n",
    "                               , \"annotatate_x\"   : 20\n",
    "                               , \"annotatate_y\"   : 50                           \n",
    "}\n",
    "\n",
    "# Call the function to create the linear regression\n",
    "create_linear_regression(linear_regression_parms_dict )"
   ]
  },
  {
   "cell_type": "code",
   "execution_count": 26,
   "id": "46c7a9cf",
   "metadata": {},
   "outputs": [
    {
     "name": "stdout",
     "output_type": "stream",
     "text": [
      "The r-value is: 0.01987527008553912\n"
     ]
    },
    {
     "data": {
      "image/png": "[encoded data removed]",
      "text/plain": [
       "<Figure size 432x288 with 1 Axes>"
      ]
     },
     "metadata": {
      "needs_background": "light"
     },
     "output_type": "display_data"
    }
   ],
   "source": [
    "# Calculate the linear regression equation Country - Total Deaths vs. Life Expectancy\n",
    "\n",
    "# Save the data to create the scatter plot in a dictionary\n",
    "linear_regression_parms_dict = { \"Location_Summary\" : \"Country\"\n",
    "                               , \"x_values\"       : Location_Summary[\"Total Deaths\"]\n",
    "                               , \"y_values\"       : Location_Summary[\"Over 70 Years\"]\n",
    "                               , \"ylabel\"         : \"Over 70 Years\"\n",
    "                               , \"annotatate_x\"   : 20\n",
    "                               , \"annotatate_y\"   : 50                           \n",
    "}\n",
    "\n",
    "# Call the function to create the linear regression\n",
    "create_linear_regression(linear_regression_parms_dict )"
   ]
  },
  {
   "cell_type": "code",
   "execution_count": null,
   "id": "9fe6b347",
   "metadata": {},
   "outputs": [],
   "source": []
  }
 ],
 "metadata": {
  "kernelspec": {
   "display_name": "Python [conda env:PythonData] *",
   "language": "python",
   "name": "conda-env-PythonData-py"
  },
  "language_info": {
   "codemirror_mode": {
    "name": "ipython",
    "version": 3
   },
   "file_extension": ".py",
   "mimetype": "text/x-python",
   "name": "python",
   "nbconvert_exporter": "python",
   "pygments_lexer": "ipython3",
   "version": "3.7.7"
  }
 },
 "nbformat": 4,
 "nbformat_minor": 5
}
